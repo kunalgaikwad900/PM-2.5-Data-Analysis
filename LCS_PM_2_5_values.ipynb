{
  "nbformat": 4,
  "nbformat_minor": 0,
  "metadata": {
    "colab": {
      "provenance": []
    },
    "kernelspec": {
      "name": "python3",
      "display_name": "Python 3"
    },
    "language_info": {
      "name": "python"
    }
  },
  "cells": [
    {
      "cell_type": "code",
      "execution_count": null,
      "metadata": {
        "colab": {
          "base_uri": "https://localhost:8080/"
        },
        "id": "MDoGO2KzB30_",
        "outputId": "a9613b53-fca6-4184-f358-3b49a25e144c"
      },
      "outputs": [
        {
          "output_type": "stream",
          "name": "stdout",
          "text": [
            "Mounted at /content/gdrive\n"
          ]
        }
      ],
      "source": [
        "from google.colab import drive\n",
        "drive.mount('/content/gdrive')\n",
        "\n",
        "import os \n",
        "os.chdir('/content/gdrive/MyDrive/Research/PA_RBU/PA_RBU')"
      ]
    },
    {
      "cell_type": "code",
      "source": [
        "import matplotlib.pyplot as plt\n",
        "import numpy as np\n",
        "import tensorflow as tf\n",
        "import pandas as pd\n",
        "import seaborn as sns\n",
        "import pickle\n",
        "import random"
      ],
      "metadata": {
        "id": "wVwiBuc2CCVZ"
      },
      "execution_count": null,
      "outputs": []
    },
    {
      "cell_type": "code",
      "source": [
        "import matplotlib.pyplot as plt\n",
        "import sklearn\n",
        "from sklearn.metrics import mean_squared_error, r2_score\n",
        "from sklearn.model_selection import train_test_split\n",
        "from sklearn import datasets, linear_model\n",
        "from sklearn.preprocessing import PolynomialFeatures\n",
        "from sklearn.svm import SVR\n",
        "\n",
        "from sklearn.tree import DecisionTreeRegressor\n",
        "from sklearn.linear_model import Ridge\n",
        "from sklearn.kernel_ridge import KernelRidge\n",
        "\n",
        "from sklearn.ensemble import RandomForestRegressor\n",
        "from sklearn.neighbors import KNeighborsRegressor\n",
        "\n",
        "import keras\n",
        "import tensorflow as tf\n",
        "\n",
        "from keras.models import Sequential\n",
        "from keras.layers import Dense\n",
        "from sklearn.gaussian_process import GaussianProcessRegressor\n",
        "from sklearn.gaussian_process.kernels import DotProduct, WhiteKernel"
      ],
      "metadata": {
        "id": "tgvmwBF_CE4M"
      },
      "execution_count": null,
      "outputs": []
    },
    {
      "cell_type": "code",
      "source": [
        "file_names=[\"20191210.csv\", \"20191211.csv\", \"20191212.csv\", \"20191213.csv\" ,\"20191214.csv\" ,\"20191215.csv\", \"20191216.csv\", \"20191217.csv\", \"20191218.csv\", \"20191219.csv\" ,\"20191220.csv\", \"20191221.csv\" ,\"20191222.csv\", \"20191223.csv\", \"20191224.csv\", \"20191225.csv\", \"20191226.csv\" ,\"20191227.csv\", \"20191228.csv\", \"20191229.csv\" ,\"20191230.csv\", \"20191231.csv\", \"20200101.csv\", \"20200102.csv\", \"20200103.csv\", \"20200104.csv\", \"20200105.csv\" ,\"20200106.csv\" ,\"20200107.csv\", \"20200108.csv\", \"20200109.csv\", \"20200110.csv\", \"20200111.csv\", \"20200112.csv\", \"20200113.csv\" ,\"20200114.csv\", \"20200115.csv\" ,\"20200116.csv\" ,\"20200117.csv\", \"20200118.csv\" ,\"20200119.csv\" ,\"20200120.csv\" ,\"20200121.csv\", \"20200122.csv\", \"20200123.csv\" ,\"20200124.csv\" ,\"20200125.csv\", \"20200126.csv\", \"20200127.csv\", \"20200128.csv\", \"20200129.csv\" ,\"20200130.csv\", \"20200131.csv\" ,\"20200201.csv\", \"20200202.csv\", \"20200203.csv\", \"20200204.csv\", \"20200205.csv\" ,\"20200206.csv\", \"20200207.csv\", \"20200208.csv\", \"20200209.csv\", \"20200210.csv\" ,\"20200211.csv\", \"20200212.csv\", \"20200213.csv\" ,\"20200214.csv\" ,\"20200215.csv\", \"20200216.csv\", \"20200217.csv\" ,\"20200218.csv\", \"20200219.csv\", \"20200220.csv\", \"20200221.csv\", \"20200222.csv\" ,\"20200223.csv\", \"20200224.csv\" ,\"20200225.csv\" ,\"20200226.csv\", \"20200227.csv\", \"20200228.csv\", \"20200229.csv\", \"20200301.csv\", \"20200302.csv\", \"20200303.csv\", \"20200304.csv\", \"20200305.csv\", \"20200306.csv\", \"20200307.csv\" ,\"20200308.csv\", \"20200309.csv\", \"20200310.csv\", \"20200311.csv\", \"20200312.csv\", \"20200313.csv\" ,\"20200314.csv\", \"20200315.csv\", \"20200316.csv\" ,\"20200317.csv\", \"20200318.csv\", \"20200319.csv\", \"20200320.csv\", \"20200321.csv\", \"20200322.csv\", \"20200323.csv\", \"20200324.csv\", \"20200325.csv\" ,\"20200326.csv\" ,\"20200327.csv\" ,\"20200328.csv\", \"20200329.csv\" ,\"20200330.csv\", \"20200331.csv\", \"20200401.csv\", \"20200402.csv\", \"20200403.csv\", \"20200404.csv\", \"20200405.csv\" ,\"20200406.csv\" ,\"20200407.csv\", \"20200408.csv\", \"20200409.csv\", \"20200410.csv\" ,\"20200411.csv\", \"20200412.csv\" ,\"20200413.csv\" ,\"20200414.csv\", \"20200415.csv\", \"20200416.csv\", \"20200417.csv\" ,\"20200418.csv\", \"20200419.csv\", \"20200420.csv\" ,\"20200421.csv\" ,\"20200422.csv\", \"20200423.csv\", \"20200424.csv\" ,\"20200425.csv\", \"20200426.csv\" ,\"20200427.csv\", \"20200428.csv\", \"20200429.csv\", \"20200430.csv\" ,\"20200501.csv\" ,\"20200502.csv\" ,\"20200503.csv\", \"20200504.csv\", \"20200505.csv\", \"20200506.csv\" ,\"20200507.csv\", \"20200508.csv\" ,\"20200509.csv\" ,\"20200510.csv\", \"20200511.csv\", \"20200512.csv\", \"20200513.csv\" ,\"20200514.csv\" ,\"20200515.csv\", \"20200516.csv\" ,\"20200517.csv\", \"20200518.csv\", \"20200519.csv\", \"20200520.csv\", \"20220523.csv\"]"
      ],
      "metadata": {
        "id": "69WK-A5bDrgJ"
      },
      "execution_count": null,
      "outputs": []
    },
    {
      "cell_type": "code",
      "source": [
        "mean_pm2_5=np.empty(150)\n",
        "\n",
        "list_data=[]\n",
        "for file_name in file_names:\n",
        "  list_d=[]\n",
        "  data=pd.read_csv(file_name)\n",
        "  data_col=data[\"pm2_5_atm\"]\n",
        "  list_d.append(file_name[:8])\n",
        "  list_d.append(data_col.mean())\n",
        "  list_data.append(list_d)\n",
        "\n",
        "\n",
        "list_data\n",
        "lcs_data=pd.DataFrame(np.array(list_data),columns = ['Date','LCS'])\n",
        "\n",
        "lcs_data.to_excel(\"test.xlsx\")"
      ],
      "metadata": {
        "id": "rr8s6NDhBNIX"
      },
      "execution_count": null,
      "outputs": []
    },
    {
      "cell_type": "code",
      "source": [
        "data=pd.read_csv(file_names[0])"
      ],
      "metadata": {
        "id": "gyPPMXq_DjOZ"
      },
      "execution_count": null,
      "outputs": []
    },
    {
      "cell_type": "code",
      "source": [],
      "metadata": {
        "id": "apCvXoE3phTC"
      },
      "execution_count": null,
      "outputs": []
    }
  ]
}